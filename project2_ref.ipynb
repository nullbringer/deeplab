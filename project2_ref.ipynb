{
  "nbformat": 4,
  "nbformat_minor": 0,
  "metadata": {
    "colab": {
      "name": "project2_ref.ipynb",
      "provenance": [],
      "machine_shape": "hm",
      "include_colab_link": true
    },
    "kernelspec": {
      "name": "python3",
      "display_name": "Python 3"
    },
    "accelerator": "GPU"
  },
  "cells": [
    {
      "cell_type": "markdown",
      "metadata": {
        "id": "view-in-github",
        "colab_type": "text"
      },
      "source": [
        "<a href=\"https://colab.research.google.com/github/nullbringer/deeplab/blob/master/project2_ref.ipynb\" target=\"_parent\"><img src=\"https://colab.research.google.com/assets/colab-badge.svg\" alt=\"Open In Colab\"/></a>"
      ]
    },
    {
      "cell_type": "code",
      "metadata": {
        "id": "QCsqOs0eaMTR",
        "colab_type": "code",
        "outputId": "5bf4c930-8bd7-422c-fa84-e24c4ebcb1e6",
        "colab": {
          "base_uri": "https://localhost:8080/",
          "height": 80
        }
      },
      "source": [
        "\n",
        "from __future__ import absolute_import\n",
        "from __future__ import division\n",
        "from __future__ import print_function\n",
        "\n",
        "import h5py\n",
        "import numpy as np\n",
        "import random\n",
        "import cv2\n",
        "import tensorflow as tf\n",
        "from tensorflow.python.keras import backend as K\n",
        "from tensorflow.python.keras.models import Model\n",
        "from tensorflow.python.keras import layers\n",
        "from tensorflow.python.keras.layers import Input, Lambda, Activation, Concatenate, Add, Dropout\n",
        "from tensorflow.python.keras.layers import BatchNormalization, Conv2D, DepthwiseConv2D, ZeroPadding2D\n",
        "from tensorflow.python.keras.layers import GlobalAveragePooling2D\n",
        "from tensorflow.python.keras.utils.layer_utils import get_source_inputs\n",
        "from tensorflow.python.keras.activations import relu\n",
        "from tensorflow.python.keras.optimizers import SGD\n",
        "from keras.preprocessing.image import ImageDataGenerator\n",
        "from keras.utils import Sequence, to_categorical"
      ],
      "execution_count": 2,
      "outputs": [
        {
          "output_type": "display_data",
          "data": {
            "text/html": [
              "<p style=\"color: red;\">\n",
              "The default version of TensorFlow in Colab will soon switch to TensorFlow 2.x.<br>\n",
              "We recommend you <a href=\"https://www.tensorflow.org/guide/migrate\" target=\"_blank\">upgrade</a> now \n",
              "or ensure your notebook will continue to use TensorFlow 1.x via the <code>%tensorflow_version 1.x</code> magic:\n",
              "<a href=\"https://colab.research.google.com/notebooks/tensorflow_version.ipynb\" target=\"_blank\">more info</a>.</p>\n"
            ],
            "text/plain": [
              "<IPython.core.display.HTML object>"
            ]
          },
          "metadata": {
            "tags": []
          }
        },
        {
          "output_type": "stream",
          "text": [
            "Using TensorFlow backend.\n"
          ],
          "name": "stderr"
        }
      ]
    },
    {
      "cell_type": "code",
      "metadata": {
        "id": "XxHOkqy9qpjF",
        "colab_type": "code",
        "colab": {
          "base_uri": "https://localhost:8080/",
          "height": 54
        },
        "outputId": "dea2ff2d-5c0f-44f9-917b-2ffbf9474be2"
      },
      "source": [
        "from google.colab import drive\n",
        "drive.mount('/content/drive/')\n",
        "drivloc =\"/content/drive/My Drive/deeplabv3/\""
      ],
      "execution_count": 3,
      "outputs": [
        {
          "output_type": "stream",
          "text": [
            "Drive already mounted at /content/drive/; to attempt to forcibly remount, call drive.mount(\"/content/drive/\", force_remount=True).\n"
          ],
          "name": "stdout"
        }
      ]
    },
    {
      "cell_type": "markdown",
      "metadata": {
        "id": "j-B6QUHFa8zl",
        "colab_type": "text"
      },
      "source": [
        "### Pre-preprocess CityScape data\n",
        "(needs to convert raw data to h5 files using make_h5.py first)"
      ]
    },
    {
      "cell_type": "code",
      "metadata": {
        "id": "c0jcOVXTxYdW",
        "colab_type": "code",
        "colab": {}
      },
      "source": [
        "\n",
        "def pre_processing(img):\n",
        "    # Random exposure and saturation (0.9 ~ 1.1 scale)\n",
        "    rand_s = random.uniform(0.9, 1.1)\n",
        "    rand_v = random.uniform(0.9, 1.1)\n",
        "\n",
        "    img = cv2.cvtColor(img, cv2.COLOR_RGB2HSV)\n",
        "\n",
        "    tmp = np.ones_like(img[:, :, 1]) * 255\n",
        "    img[:, :, 1] = np.where(img[:, :, 1] * rand_s > 255, tmp, img[:, :, 1] * rand_s)\n",
        "    img[:, :, 2] = np.where(img[:, :, 2] * rand_v > 255, tmp, img[:, :, 2] * rand_v)\n",
        "\n",
        "    img = cv2.cvtColor(img, cv2.COLOR_HSV2RGB)\n",
        "\n",
        "    # Centering helps normalization image (-1 ~ 1 value)\n",
        "    return img / 127.5 - 1\n",
        "\n",
        "\n",
        "# Get ImageDataGenerator arguments(options) depends on mode - (train, val, test)\n",
        "def get_data_gen_args(mode):\n",
        "    if mode == 'train' or mode == 'val':\n",
        "        x_data_gen_args = dict(preprocessing_function=pre_processing,\n",
        "                               shear_range=0.1,\n",
        "                               zoom_range=0.1,\n",
        "                               rotation_range=10,\n",
        "                               width_shift_range=0.1,\n",
        "                               height_shift_range=0.1,\n",
        "                               fill_mode='constant',\n",
        "                               horizontal_flip=True)\n",
        "\n",
        "        y_data_gen_args = dict(shear_range=0.1,\n",
        "                               zoom_range=0.1,\n",
        "                               rotation_range=10,\n",
        "                               width_shift_range=0.1,\n",
        "                               height_shift_range=0.1,\n",
        "                               fill_mode='constant',\n",
        "                               horizontal_flip=True)\n",
        "\n",
        "    elif mode == 'test':\n",
        "        x_data_gen_args = dict(preprocessing_function=pre_processing)\n",
        "        y_data_gen_args = dict()\n",
        "\n",
        "    else:\n",
        "        print(\"Data_generator function should get mode arg 'train' or 'val' or 'test'.\")\n",
        "        return -1\n",
        "\n",
        "    return x_data_gen_args, y_data_gen_args\n",
        "\n",
        "\n",
        "# One hot encoding for y_img.\n",
        "def get_result_map(b_size, y_img):\n",
        "    y_img = np.squeeze(y_img, axis=3)\n",
        "    result_map = np.zeros((b_size, 256, 512, 4))\n",
        "\n",
        "    # For np.where calculation.\n",
        "    person = (y_img == 24)\n",
        "    car = (y_img == 26)\n",
        "    road = (y_img == 7)\n",
        "    background = np.logical_not(person + car + road)\n",
        "\n",
        "    result_map[:, :, :, 0] = np.where(background, 1, 0)\n",
        "    result_map[:, :, :, 1] = np.where(person, 1, 0)\n",
        "    result_map[:, :, :, 2] = np.where(car, 1, 0)\n",
        "    result_map[:, :, :, 3] = np.where(road, 1, 0)\n",
        "\n",
        "    return result_map\n",
        "\n",
        "\n",
        "# Data generator for fit_generator.\n",
        "def data_generator(d_path, b_size, mode):\n",
        "    print('using data gene')\n",
        "    data = h5py.File(d_path, 'r')\n",
        "    x_imgs = data.get('/' + mode + '/x')\n",
        "    y_imgs = data.get('/' + mode + '/y')\n",
        "\n",
        "    # Make ImageDataGenerator.\n",
        "    x_data_gen_args, y_data_gen_args = get_data_gen_args(mode)\n",
        "    x_data_gen = ImageDataGenerator(**x_data_gen_args)\n",
        "    y_data_gen = ImageDataGenerator(**y_data_gen_args)\n",
        "\n",
        "    # random index for random data access.\n",
        "    d_size = x_imgs.shape[0]\n",
        "    print(str(d_size))\n",
        "    shuffled_idx = list(range(d_size))\n",
        "\n",
        "    x = []\n",
        "    y = []\n",
        "    while True:\n",
        "        random.shuffle(shuffled_idx)\n",
        "        for i in range(d_size):\n",
        "            idx = shuffled_idx[i]\n",
        "\n",
        "            x.append(x_imgs[idx].reshape((256, 512, 3)))\n",
        "            y.append(y_imgs[idx].reshape((256, 512, 1)))\n",
        "\n",
        "            if len(x) == b_size:\n",
        "                # Adapt ImageDataGenerator flow method for data augmentation.\n",
        "                _ = np.zeros(b_size)\n",
        "                seed = random.randrange(1, 1000)\n",
        "\n",
        "                x_tmp_gen = x_data_gen.flow(np.array(x), _,\n",
        "                                            batch_size=b_size,\n",
        "                                            seed=seed)\n",
        "                y_tmp_gen = y_data_gen.flow(np.array(y), _,\n",
        "                                            batch_size=b_size,\n",
        "                                            seed=seed)\n",
        "\n",
        "                x_result, _ = next(x_tmp_gen)\n",
        "                y_result, _ = next(y_tmp_gen)\n",
        "\n",
        "                yield x_result, get_result_map(b_size, y_result)\n",
        "\n",
        "                x.clear()\n",
        "                y.clear()"
      ],
      "execution_count": 0,
      "outputs": []
    },
    {
      "cell_type": "markdown",
      "metadata": {
        "id": "tD2c80TobqAL",
        "colab_type": "text"
      },
      "source": [
        "### Deeplab Model using MobileNetv2 backbone"
      ]
    },
    {
      "cell_type": "code",
      "metadata": {
        "id": "T62cUj_qanwZ",
        "colab_type": "code",
        "colab": {}
      },
      "source": [
        "def relu6(x):\n",
        "    return relu(x, max_value=6)\n",
        "\n",
        "\n",
        "def _make_divisible(v, divisor, min_value=None):\n",
        "    if min_value is None:\n",
        "        min_value = divisor\n",
        "    new_v = max(min_value, int(v + divisor / 2) // divisor * divisor)\n",
        "    # Make sure that round down does not go down by more than 10%.\n",
        "    if new_v < 0.9 * v:\n",
        "        new_v += divisor\n",
        "    return new_v\n",
        "\n",
        "\n",
        "def _inverted_res_block(inputs, expansion, stride, alpha, filters, block_id, skip_connection, rate=1):\n",
        "    in_channels = inputs.shape[-1].value  # inputs._keras_shape[-1]\n",
        "    pointwise_conv_filters = int(filters * alpha)\n",
        "    pointwise_filters = _make_divisible(pointwise_conv_filters, 8)\n",
        "    x = inputs\n",
        "    prefix = 'expanded_conv_{}_'.format(block_id)\n",
        "    if block_id:\n",
        "        # Expand\n",
        "\n",
        "        x = Conv2D(expansion * in_channels, kernel_size=1, padding='same',\n",
        "                   use_bias=False, activation=None,\n",
        "                   name=prefix + 'expand')(x)\n",
        "        x = BatchNormalization(epsilon=1e-3, momentum=0.999,\n",
        "                               name=prefix + 'expand_BN')(x)\n",
        "        x = Activation(relu6, name=prefix + 'expand_relu')(x)\n",
        "    else:\n",
        "        prefix = 'expanded_conv_'\n",
        "    # Depthwise\n",
        "    x = DepthwiseConv2D(kernel_size=3, strides=stride, activation=None,\n",
        "                        use_bias=False, padding='same', dilation_rate=(rate, rate),\n",
        "                        name=prefix + 'depthwise')(x)\n",
        "    x = BatchNormalization(epsilon=1e-3, momentum=0.999,\n",
        "                           name=prefix + 'depthwise_BN')(x)\n",
        "\n",
        "    x = Activation(relu6, name=prefix + 'depthwise_relu')(x)\n",
        "\n",
        "    # Project\n",
        "    x = Conv2D(pointwise_filters,\n",
        "               kernel_size=1, padding='same', use_bias=False, activation=None,\n",
        "               name=prefix + 'project')(x)\n",
        "    x = BatchNormalization(epsilon=1e-3, momentum=0.999,\n",
        "                           name=prefix + 'project_BN')(x)\n",
        "\n",
        "    if skip_connection:\n",
        "        return Add(name=prefix + 'add')([inputs, x])\n",
        "\n",
        "    return x\n",
        "\n",
        "\n",
        "def Deeplabv3(input_tensor=None, input_shape=(256, 512, 3), classes=19, alpha=1.):\n",
        "\n",
        "    if input_tensor is None:\n",
        "        img_input = Input(shape=input_shape)\n",
        "    else:\n",
        "        img_input = input_tensor\n",
        "\n",
        "\n",
        "    OS = 8\n",
        "    first_block_filters = _make_divisible(32 * alpha, 8)\n",
        "    x = Conv2D(first_block_filters,\n",
        "                kernel_size=3,\n",
        "                strides=(2, 2), padding='same',\n",
        "                use_bias=False, name='Conv')(img_input)\n",
        "    x = BatchNormalization(\n",
        "        epsilon=1e-3, momentum=0.999, name='Conv_BN')(x)\n",
        "    x = Activation(relu6, name='Conv_Relu6')(x)\n",
        "\n",
        "    x = _inverted_res_block(x, filters=16, alpha=alpha, stride=1, expansion=1, block_id=0, skip_connection=False)\n",
        "\n",
        "    x = _inverted_res_block(x, filters=24, alpha=alpha, stride=2, expansion=6, block_id=1, skip_connection=False)\n",
        "    x = _inverted_res_block(x, filters=24, alpha=alpha, stride=1, expansion=6, block_id=2, skip_connection=True)\n",
        "\n",
        "    x = _inverted_res_block(x, filters=32, alpha=alpha, stride=2, expansion=6, block_id=3, skip_connection=False)\n",
        "    x = _inverted_res_block(x, filters=32, alpha=alpha, stride=1, expansion=6, block_id=4, skip_connection=True)\n",
        "    x = _inverted_res_block(x, filters=32, alpha=alpha, stride=1, expansion=6, block_id=5, skip_connection=True)\n",
        "\n",
        "    x = _inverted_res_block(x, filters=64, alpha=alpha, stride=1, expansion=6, block_id=6, skip_connection=False)\n",
        "    x = _inverted_res_block(x, filters=64, alpha=alpha, stride=1, rate=2, expansion=6, block_id=7, skip_connection=True)\n",
        "    x = _inverted_res_block(x, filters=64, alpha=alpha, stride=1, rate=2, expansion=6, block_id=8, skip_connection=True)\n",
        "    x = _inverted_res_block(x, filters=64, alpha=alpha, stride=1, rate=2, expansion=6, block_id=9, skip_connection=True)\n",
        "\n",
        "    x = _inverted_res_block(x, filters=96, alpha=alpha, stride=1, rate=2, expansion=6, block_id=10, skip_connection=False)\n",
        "    x = _inverted_res_block(x, filters=96, alpha=alpha, stride=1, rate=2, expansion=6, block_id=11, skip_connection=True)\n",
        "    x = _inverted_res_block(x, filters=96, alpha=alpha, stride=1, rate=2, expansion=6, block_id=12, skip_connection=True)\n",
        "\n",
        "    x = _inverted_res_block(x, filters=160, alpha=alpha, stride=1, rate=2, expansion=6, block_id=13, skip_connection=False)\n",
        "    x = _inverted_res_block(x, filters=160, alpha=alpha, stride=1, rate=4, expansion=6, block_id=14, skip_connection=True)\n",
        "    x = _inverted_res_block(x, filters=160, alpha=alpha, stride=1, rate=4, expansion=6, block_id=15, skip_connection=True)\n",
        "\n",
        "    x = _inverted_res_block(x, filters=320, alpha=alpha, stride=1, rate=4, expansion=6, block_id=16, skip_connection=False)\n",
        "\n",
        "    # end of feature extractor\n",
        "\n",
        "    # branching for Atrous Spatial Pyramid Pooling\n",
        "\n",
        "    # Image Feature branch\n",
        "    shape_before = tf.shape(x)\n",
        "    b4 = GlobalAveragePooling2D()(x)\n",
        "    # from (b_size, channels)->(b_size, 1, 1, channels)\n",
        "    b4 = Lambda(lambda x: K.expand_dims(x, 1))(b4)\n",
        "    b4 = Lambda(lambda x: K.expand_dims(x, 1))(b4)\n",
        "    b4 = Conv2D(256, (1, 1), padding='same', use_bias=False, name='image_pooling')(b4)\n",
        "    b4 = BatchNormalization(name='image_pooling_BN', epsilon=1e-5)(b4)\n",
        "    b4 = Activation('relu')(b4)\n",
        "    \n",
        "    # upsample. have to use compat because of the option align_corners\n",
        "    size_before = tf.keras.backend.int_shape(x)\n",
        "    b4 = Lambda(lambda x: tf.compat.v1.image.resize(x, size_before[1:3],\n",
        "                                                    method='bilinear', align_corners=True))(b4)\n",
        "    # simple 1x1\n",
        "    b0 = Conv2D(256, (1, 1), padding='same', use_bias=False, name='aspp0')(x)\n",
        "    b0 = BatchNormalization(name='aspp0_BN', epsilon=1e-5)(b0)\n",
        "    b0 = Activation('relu', name='aspp0_activation')(b0)\n",
        "\n",
        "    x = Concatenate()([b4, b0])\n",
        "\n",
        "    x = Conv2D(256, (1, 1), padding='same',\n",
        "               use_bias=False, name='concat_projection')(x)\n",
        "    x = BatchNormalization(name='concat_projection_BN', epsilon=1e-5)(x)\n",
        "    x = Activation('relu')(x)\n",
        "    x = Dropout(0.1)(x)\n",
        "    # DeepLab v.3+ decoder\n",
        "\n",
        "    last_layer_name = 'logits_semantic'\n",
        "\n",
        "    x = Conv2D(classes, (1, 1), padding='same', name=last_layer_name)(x)\n",
        "    size_before3 = tf.keras.backend.int_shape(img_input)\n",
        "    x = Lambda(lambda xx: tf.compat.v1.image.resize(xx,\n",
        "                                                    size_before3[1:3],\n",
        "                                                    method='bilinear', align_corners=True))(x)\n",
        "\n",
        "    # Ensure that the model takes into account\n",
        "    # any potential predecessors of `input_tensor`.\n",
        "    if input_tensor is not None:\n",
        "        inputs = get_source_inputs(input_tensor)\n",
        "    else:\n",
        "        inputs = img_input\n",
        "\n",
        "    model = Model(inputs, x, name='deeplabv3plus')\n",
        "\n",
        "    # model.load_weights('deeplabv3_mobilenetv2_tf_dim_ordering_tf_kernels_cityscapes.h5', by_name=True)\n",
        "    return model\n",
        "\n",
        "def preprocess_input(x):\n",
        "    return preprocess_input(x, mode='tf')\n"
      ],
      "execution_count": 0,
      "outputs": []
    },
    {
      "cell_type": "markdown",
      "metadata": {
        "id": "riSAuKGLfGhl",
        "colab_type": "text"
      },
      "source": [
        "### Create and train Model"
      ]
    },
    {
      "cell_type": "code",
      "metadata": {
        "id": "FAuGJ-nKfMPj",
        "colab_type": "code",
        "colab": {
          "base_uri": "https://localhost:8080/",
          "height": 88
        },
        "outputId": "8d4f6b8a-83ba-4d9a-cb93-10a0390a8366"
      },
      "source": [
        "deeplab_model = Deeplabv3()"
      ],
      "execution_count": 6,
      "outputs": [
        {
          "output_type": "stream",
          "text": [
            "WARNING:tensorflow:From /usr/local/lib/python3.6/dist-packages/tensorflow_core/python/ops/resource_variable_ops.py:1630: calling BaseResourceVariable.__init__ (from tensorflow.python.ops.resource_variable_ops) with constraint is deprecated and will be removed in a future version.\n",
            "Instructions for updating:\n",
            "If using Keras pass *_constraint arguments to layers.\n"
          ],
          "name": "stdout"
        }
      ]
    },
    {
      "cell_type": "code",
      "metadata": {
        "id": "ey93fUBUfOrV",
        "colab_type": "code",
        "colab": {}
      },
      "source": [
        "deeplab_model.load_weights(drivloc + 'weights/model.h5', by_name=True)\n",
        "# deeplab_model.compile(optimizer=SGD(lr=0.007, decay=1e-6, momentum=0.9, nesterov=True),\n",
        "                  # loss='categorical_crossentropy')\n",
        "# TRAIN_BATCH =5\n",
        "# VAL_BATCH = 2\n",
        "\n",
        "# history = deeplab_model.fit_generator(data_generator('data.h5', TRAIN_BATCH, 'train'),\n",
        "#                               steps_per_epoch=100 // TRAIN_BATCH,\n",
        "#                               validation_data=data_generator('data.h5', VAL_BATCH, 'val'),\n",
        "#                               validation_steps=50 // VAL_BATCH,\n",
        "#                               epochs=100,\n",
        "#                               verbose=1)"
      ],
      "execution_count": 0,
      "outputs": []
    },
    {
      "cell_type": "code",
      "metadata": {
        "id": "mXoaIopIcYUd",
        "colab_type": "code",
        "colab": {}
      },
      "source": [
        "data_generator(drivloc + 'data/data.h5', 100, 'train');"
      ],
      "execution_count": 0,
      "outputs": []
    },
    {
      "cell_type": "code",
      "metadata": {
        "id": "ev2lUNoIa3cj",
        "colab_type": "code",
        "colab": {
          "base_uri": "https://localhost:8080/",
          "height": 34
        },
        "outputId": "69298c65-7683-4142-e742-3ea0bd3432a7"
      },
      "source": [
        "import numpy as np\n",
        "from PIL import Image\n",
        "from matplotlib import pyplot as plt\n",
        "\n",
        "\n",
        "# Generates labels using most basic setup.  Supports various image sizes.  Returns image labels in same format\n",
        "# as original image.  Normalization matches MobileNetV2\n",
        "\n",
        "trained_image_width=512\n",
        "trained_image_height=256 \n",
        "mean_subtraction_value=127.5\n",
        "image = np.array(Image.open(drivloc + 'images/test_data/lindau/lindau_000000_000019_leftImg8bit.png'))\n",
        "# image = np.array(Image.open(drivloc + 'images/ub.jpg'))\n",
        "\n",
        "# resize to max dimension of images from training dataset\n",
        "w, h, _ = image.shape\n",
        "ratio = float(trained_image_width) / np.max([w, h])\n",
        "resized_image = np.array(Image.fromarray(image.astype('uint8')).resize((int(ratio * h), int(ratio * w))))\n",
        "\n",
        "# apply normalization for trained dataset images\n",
        "resized_image = (resized_image / mean_subtraction_value) - 1.\n",
        "\n",
        "print(resized_image.shape)\n",
        "\n",
        "# pad array to square image to match training images\n",
        "# pad_x = int(trained_image_height - resized_image.shape[0])\n",
        "# pad_y = int(trained_image_width - resized_image.shape[1])\n",
        "# resized_image = np.pad(resized_image, ((0, pad_x), (0, pad_y), (0, 0)), mode='constant')\n",
        "\n",
        "\n",
        "\n"
      ],
      "execution_count": 30,
      "outputs": [
        {
          "output_type": "stream",
          "text": [
            "(256, 512, 3)\n"
          ],
          "name": "stdout"
        }
      ]
    },
    {
      "cell_type": "code",
      "metadata": {
        "id": "c47d_Q2MdTH5",
        "colab_type": "code",
        "colab": {}
      },
      "source": [
        "# make prediction\n",
        "\n",
        "res = deeplab_model.predict(np.expand_dims(resized_image, 0))\n",
        "labels = np.argmax(res.squeeze(), -1)"
      ],
      "execution_count": 0,
      "outputs": []
    },
    {
      "cell_type": "code",
      "metadata": {
        "id": "ADYTC6NxdQoY",
        "colab_type": "code",
        "outputId": "35d907c7-b131-4f72-81bc-72d9a254b1cc",
        "colab": {
          "base_uri": "https://localhost:8080/",
          "height": 236
        }
      },
      "source": [
        "# remove padding and resize back to original image\n",
        "# if pad_x > 0:\n",
        "#     labels = labels[:-pad_x]\n",
        "# if pad_y > 0:\n",
        "#     labels = labels[:, :-pad_y]\n",
        "labels = np.array(Image.fromarray(labels.astype('uint8')).resize((h, w)))\n",
        "\n",
        "plt.imshow(labels,interpolation='none') \n",
        "plt.imshow(image, cmap='jet', interpolation='none', alpha=0.5)\n",
        "\n",
        "# plt.imshow(image, cmap='jet', interpolation='none')\n"
      ],
      "execution_count": 55,
      "outputs": [
        {
          "output_type": "execute_result",
          "data": {
            "text/plain": [
              "<matplotlib.image.AxesImage at 0x7f87cf712278>"
            ]
          },
          "metadata": {
            "tags": []
          },
          "execution_count": 55
        },
        {
          "output_type": "display_data",
          "data": {
            "image/png": "[encoded data removed]",
            "text/plain": [
              "<Figure size 432x288 with 1 Axes>"
            ]
          },
          "metadata": {
            "tags": []
          }
        }
      ]
    },
    {
      "cell_type": "code",
      "metadata": {
        "id": "sJ0NBN8KJF7X",
        "colab_type": "code",
        "colab": {
          "base_uri": "https://localhost:8080/",
          "height": 136
        },
        "outputId": "3dc6a6ac-1ff2-4145-a333-814879c6123c"
      },
      "source": [
        "zz =np.argmax(res.squeeze(), -1)\n",
        "print(zz)"
      ],
      "execution_count": 33,
      "outputs": [
        {
          "output_type": "stream",
          "text": [
            "[[2 2 2 ... 2 2 2]\n",
            " [2 2 2 ... 2 2 2]\n",
            " [2 2 2 ... 2 2 2]\n",
            " ...\n",
            " [0 0 0 ... 0 0 0]\n",
            " [0 0 0 ... 0 0 0]\n",
            " [0 0 0 ... 0 0 0]]\n"
          ],
          "name": "stdout"
        }
      ]
    },
    {
      "cell_type": "markdown",
      "metadata": {
        "id": "FUq2nVjXMD3V",
        "colab_type": "text"
      },
      "source": [
        "# data play"
      ]
    },
    {
      "cell_type": "code",
      "metadata": {
        "id": "DpLtgydTMCvj",
        "colab_type": "code",
        "colab": {}
      },
      "source": [
        "import os\n",
        "import numpy as np\n",
        "from PIL import Image\n",
        "import matplotlib.pyplot as plt\n",
        "\n",
        "\n",
        "def get_files(folder, name_filter=None, extension_filter=None):\n",
        "    \"\"\"Returns the list of files in a folder.\n",
        "    Args:\n",
        "        folder (string): The path to a folder.\n",
        "        name_filter (string, optional): The returned files must contain\n",
        "            this substring in their filename. Default: None; files are not\n",
        "            filtered.\n",
        "        extension_filter (string, optional): The desired file extension.\n",
        "            Default: None; files are not filtered.\n",
        "    Returns:\n",
        "        The list of files.\n",
        "    \"\"\"\n",
        "    if not os.path.isdir(folder):\n",
        "        raise RuntimeError(\"\\\"{0}\\\" is not a folder.\".format(folder))\n",
        "\n",
        "    # Filename filter: if not specified don't filter (condition always true);\n",
        "    # otherwise, use a lambda expression to filter out files that do not\n",
        "    # contain \"name_filter\"\n",
        "    if name_filter is None:\n",
        "        # This looks hackish...there is probably a better way\n",
        "        name_cond = lambda filename: True\n",
        "    else:\n",
        "        name_cond = lambda filename: name_filter in filename\n",
        "\n",
        "    # Extension filter: if not specified don't filter (condition always true);\n",
        "    # otherwise, use a lambda expression to filter out files whose extension\n",
        "    # is not \"extension_filter\"\n",
        "    if extension_filter is None:\n",
        "        # This looks hackish...there is probably a better way\n",
        "        ext_cond = lambda filename: True\n",
        "    else:\n",
        "        ext_cond = lambda filename: filename.endswith(extension_filter)\n",
        "\n",
        "    filtered_files = []\n",
        "\n",
        "    # Explore the directory tree to get files that contain \"name_filter\" and\n",
        "    # with extension \"extension_filter\"\n",
        "    for path, _, files in os.walk(folder):\n",
        "        files.sort()\n",
        "        for file in files:\n",
        "            if name_cond(file) and ext_cond(file):\n",
        "                full_path = os.path.join(path, file)\n",
        "                filtered_files.append(full_path)\n",
        "\n",
        "    return filtered_files\n",
        "\n",
        "\n",
        "def pil_loader(data_path, label_path, shape):\n",
        "    data = Image.open(data_path)\n",
        "    label = Image.open(label_path)\n",
        "\n",
        "    if shape is not None:\n",
        "        if data.size != shape:\n",
        "            data = data.resize(shape)\n",
        "        if label.size != shape:\n",
        "            label = label.resize(shape)\n",
        "\n",
        "    return data, label\n",
        "\n",
        "\n",
        "def remap(image, old_values, new_values):\n",
        "    # Replace old values by the new ones\n",
        "    k_img = np.zeros_like(image)\n",
        "    for old, new in zip(old_values, new_values):\n",
        "        if new != 0:\n",
        "          k_img[image == old] = new\n",
        "\n",
        "    # print(np.unique(resized_image))\n",
        "    return k_img\n",
        "\n",
        "\n",
        "def imshow_batch(image_batch, nrows=1, figsize=None):\n",
        "    \"\"\"Shows a batch of images in a grid.\n",
        "    Note: Blocks execution until the figure is closed.\n",
        "    Args:\n",
        "        image_batch (numpy.ndarray): A batch of images. Dimension is assumed\n",
        "            as (batch, height, width, channels); or, (height, width, channels)\n",
        "            which is transformed into (1, height, width, channels).\n",
        "        nrows (int): The number of rows of the image grid. The number of\n",
        "            columns is infered from the rows and the batch size.\n",
        "        figsize (tuple, optional): The size of the figure (width, height)\n",
        "            in inches. Default: None (defaults to rc figure.figsize)\n",
        "    \"\"\"\n",
        "    assert nrows > 0, \"number of rows must be greater than 0\"\n",
        "    assert figsize is None or isinstance(\n",
        "        figsize, tuple\n",
        "    ), (\"expect type None or tuple for figsize\")\n",
        "\n",
        "    if (np.ndim(image_batch) == 3):\n",
        "        image_batch = np.expand_dims(image_batch, 0)\n",
        "\n",
        "    # Compute the number of columns needed to plot the batch given the rows\n",
        "    ncols = int(np.ceil(image_batch.shape[0] / nrows))\n",
        "\n",
        "    # Show the images with subplot\n",
        "    if figsize is None:\n",
        "        figsize = plt.rcParams.get('figure.figsize')\n",
        "\n",
        "    fig, axes = plt.subplots(nrows, ncols, figsize=figsize)\n",
        "    for idx in range(image_batch.shape[0]):\n",
        "        if nrows == 1:\n",
        "            axes[idx].imshow(image_batch[idx].astype(int))\n",
        "        else:\n",
        "            col = idx % ncols\n",
        "            row = idx // ncols\n",
        "            axes[row, col].imshow(image_batch[idx].astype(int))\n",
        "\n",
        "    plt.show()"
      ],
      "execution_count": 0,
      "outputs": []
    },
    {
      "cell_type": "code",
      "metadata": {
        "id": "BYFG6uyjNKKP",
        "colab_type": "code",
        "colab": {}
      },
      "source": [
        ""
      ],
      "execution_count": 0,
      "outputs": []
    },
    {
      "cell_type": "code",
      "metadata": {
        "id": "-L3uzsdZN2G2",
        "colab_type": "code",
        "colab": {}
      },
      "source": [
        "# Test dataset root folders\n",
        "test_folder = drivloc + \"images/test_data/lindau\"\n",
        "test_lbl_folder = drivloc + \"images/test_label/lindau\"\n",
        "\n",
        "# Filters to find the images\n",
        "img_extension = '.png'\n",
        "lbl_name_filter = 'labelIds'\n",
        "\n",
        "# The values associated with the 35 classes\n",
        "full_classes = (\n",
        "    0, 1, 2, 3, 4, 5, 6, 7, 8, 9, 10, 11, 12, 13, 14, 15, 16, 17, 18, 19,\n",
        "    20, 21, 22, 23, 24, 25, 26, 27, 28, 29, 30, 31, 32, 33, -1\n",
        ")\n",
        "# The values above are remapped to the following\n",
        "new_classes = (\n",
        "    0, 0, 0, 0, 0, 0, 0, 1, 2, 0, 0, 3, 4, 5, 0, 0, 0, 6, 0, 7, 8, 9, 10,\n",
        "    11, 12, 13, 14, 15, 16, 0, 0, 17, 18, 19, 0\n",
        ")\n",
        "\n",
        "\n",
        "# Get the test data and labels filepaths\n",
        "test_images = get_files(test_folder,\n",
        "    extension_filter=img_extension\n",
        ")\n",
        "\n",
        "test_labels = get_files(test_lbl_folder,\n",
        "    name_filter=lbl_name_filter,\n",
        "    extension_filter=img_extension\n",
        ")"
      ],
      "execution_count": 0,
      "outputs": []
    },
    {
      "cell_type": "code",
      "metadata": {
        "id": "wrqC6R_6OgAS",
        "colab_type": "code",
        "colab": {}
      },
      "source": [
        "# Initialize image_batch and label_batch if needed\n",
        "image_batch = np.empty(\n",
        "    (len(test_images), ) + (w,h,3), dtype=np.uint8\n",
        ")\n",
        "label_batch = np.empty(\n",
        "    (len(test_images), ) + (w,h), dtype=np.uint8\n",
        ")\n",
        "\n",
        "for idx, image_path in enumerate(test_images):\n",
        "            image, label = pil_loader(\n",
        "                image_path,\n",
        "                test_labels[idx],\n",
        "                (h, w),\n",
        "            )\n",
        "            # PIL to numpy\n",
        "            image = np.asarray(image)\n",
        "            label = np.asarray(label)\n",
        "\n",
        "            # Expand the channels dimension if there isn't one\n",
        "            # if np.ndim(image) == 2:\n",
        "            #     image = np.expand_dims(image, -1)\n",
        "            # if np.ndim(label) == 2:\n",
        "            #     label = np.expand_dims(label, -1)\n",
        "\n",
        "\n",
        "\n",
        "            # Fill image_batch and label_batch iteratively\n",
        "            image_batch[idx] = image.astype(np.uint8)\n",
        "            label_batch[idx] = label.astype(np.uint8)"
      ],
      "execution_count": 0,
      "outputs": []
    },
    {
      "cell_type": "code",
      "metadata": {
        "id": "LdEniRL-ZOB5",
        "colab_type": "code",
        "colab": {}
      },
      "source": [
        "# Remap class labels\n",
        "label_batch_mapped = remap(label_batch, full_classes, new_classes)  # yapf: disable\n",
        "\n",
        "# Change format from class integers to categorical\n",
        "num_classes = 20\n",
        "label_batch_cat = to_categorical(label_batch_mapped, num_classes)\n"
      ],
      "execution_count": 0,
      "outputs": []
    },
    {
      "cell_type": "code",
      "metadata": {
        "id": "GIMRsunpcZ4V",
        "colab_type": "code",
        "colab": {
          "base_uri": "https://localhost:8080/",
          "height": 34
        },
        "outputId": "0a1ccdb9-ea26-44cd-d1bc-1bfd5281643c"
      },
      "source": [
        "label_batch.shape"
      ],
      "execution_count": 34,
      "outputs": [
        {
          "output_type": "execute_result",
          "data": {
            "text/plain": [
              "(59, 1024, 2048)"
            ]
          },
          "metadata": {
            "tags": []
          },
          "execution_count": 34
        }
      ]
    },
    {
      "cell_type": "code",
      "metadata": {
        "id": "0vzjqDHyOkqw",
        "colab_type": "code",
        "colab": {
          "base_uri": "https://localhost:8080/",
          "height": 34
        },
        "outputId": "96e89afc-f5f7-418d-ec38-5a59cd3384b5"
      },
      "source": [
        "zxc = np.argmax(label_batch_cat.squeeze(), -1)\n",
        "# print(np.unique(zxc))\n",
        "zxc.shape\n",
        "# np.unique(zxc[0])"
      ],
      "execution_count": 23,
      "outputs": [
        {
          "output_type": "execute_result",
          "data": {
            "text/plain": [
              "(59, 1024, 2048)"
            ]
          },
          "metadata": {
            "tags": []
          },
          "execution_count": 23
        }
      ]
    },
    {
      "cell_type": "code",
      "metadata": {
        "id": "WMHKZXmHO7Qv",
        "colab_type": "code",
        "colab": {
          "base_uri": "https://localhost:8080/",
          "height": 34
        },
        "outputId": "d256395b-9bae-49eb-9218-7182bbb996fa"
      },
      "source": [
        "np.unique(zxc[0])"
      ],
      "execution_count": 27,
      "outputs": [
        {
          "output_type": "execute_result",
          "data": {
            "text/plain": [
              "array([ 0,  1,  2,  3,  4,  5,  6,  8,  9, 10, 11, 14, 15])"
            ]
          },
          "metadata": {
            "tags": []
          },
          "execution_count": 27
        }
      ]
    },
    {
      "cell_type": "code",
      "metadata": {
        "id": "-PKi66Rd_uKW",
        "colab_type": "code",
        "colab": {
          "base_uri": "https://localhost:8080/",
          "height": 34
        },
        "outputId": "dae5927d-84ff-44b8-bb07-e0fad633891b"
      },
      "source": [
        "np.unique(zz)"
      ],
      "execution_count": 52,
      "outputs": [
        {
          "output_type": "execute_result",
          "data": {
            "text/plain": [
              "array([ 0,  1,  2,  3,  4,  5,  7,  8,  9, 10, 13])"
            ]
          },
          "metadata": {
            "tags": []
          },
          "execution_count": 52
        }
      ]
    },
    {
      "cell_type": "code",
      "metadata": {
        "id": "cvw8bc-oN-7h",
        "colab_type": "code",
        "colab": {}
      },
      "source": [
        " def _mean_iou(y_true, y_pred, num_classes):\n",
        "        \"\"\"Computes the mean intesection over union using numpy.\n",
        "        Args:\n",
        "            y_true (tensor): True labels.\n",
        "            y_pred (tensor): Predictions of the same shape as y_true.\n",
        "        Returns:\n",
        "            The mean intersection over union (np.float32).\n",
        "        \"\"\"\n",
        "        # Compute the confusion matrix to get the number of true positives,\n",
        "        # false positives, and false negatives\n",
        "        # Convert predictions and target from categorical to integer format\n",
        "        target = np.ravel(y_true)\n",
        "        predicted = np.ravel(y_pred)\n",
        "\n",
        "        # Trick for bincounting 2 arrays together\n",
        "        x = predicted + num_classes * target\n",
        "        bincount_2d = np.bincount(\n",
        "            x.astype(np.int32), minlength=num_classes**2\n",
        "        )\n",
        "        assert bincount_2d.size == num_classes**2\n",
        "        conf = bincount_2d.reshape(\n",
        "            (num_classes, num_classes)\n",
        "        )\n",
        "\n",
        "        # Compute the IoU and mean IoU from the confusion matrix\n",
        "        true_positive = np.diag(conf)\n",
        "        false_positive = np.sum(conf, 0) - true_positive\n",
        "        false_negative = np.sum(conf, 1) - true_positive\n",
        "\n",
        "        # Just in case we get a division by 0, ignore/hide the error and\n",
        "        # set the value to 1 since we predicted 0 pixels for that class and\n",
        "        # and the batch has 0 pixels for that same class\n",
        "        with np.errstate(divide='ignore', invalid='ignore'):\n",
        "            iou = true_positive / (true_positive + false_positive + false_negative)\n",
        "        iou[np.isnan(iou)] = 1\n",
        "\n",
        "        return np.mean(iou).astype(np.float32)"
      ],
      "execution_count": 0,
      "outputs": []
    },
    {
      "cell_type": "code",
      "metadata": {
        "id": "Ymbe7frrWV2B",
        "colab_type": "code",
        "colab": {
          "base_uri": "https://localhost:8080/",
          "height": 68
        },
        "outputId": "6038b522-e84b-4bbb-fdf7-a3e50b9571e9"
      },
      "source": [
        "\n",
        "y_true_set = label_batch[0];\n",
        "y_true_set = np.array(Image.fromarray(y_true_set.astype('uint8')).resize((int(ratio * h), int(ratio * w))))\n",
        "\n",
        "print(y_true_set.shape)\n",
        "print(zz.shape)\n",
        "_mean_iou(y_true_set,zz,20)"
      ],
      "execution_count": 51,
      "outputs": [
        {
          "output_type": "stream",
          "text": [
            "(256, 512)\n",
            "(256, 512)\n"
          ],
          "name": "stdout"
        },
        {
          "output_type": "execute_result",
          "data": {
            "text/plain": [
              "0.17276728"
            ]
          },
          "metadata": {
            "tags": []
          },
          "execution_count": 51
        }
      ]
    }
  ]
}